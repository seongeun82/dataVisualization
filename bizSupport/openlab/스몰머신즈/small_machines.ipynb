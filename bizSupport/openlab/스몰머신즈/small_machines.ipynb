{
 "cells": [
  {
   "cell_type": "markdown",
   "metadata": {
    "collapsed": true,
    "pycharm": {
     "name": "#%% md\n",
     "is_executing": true
    }
   },
   "source": [
    "## 진단수(환자수) 및 시장 규모,\n",
    "### 1. 환자수 시장규모 추이 ,\n",
    "시간 별\n",
    "- 지역별,\n",
    "- 연령별,\n",
    "- 그룹별\n",
    "- 입원/외래별"
   ]
  },
  {
   "cell_type": "code",
   "execution_count": 33,
   "outputs": [],
   "source": [
    "## 데이터 import\n",
    "import pandas as pd\n",
    "from modules.DataManipulation import DataManipulation\n",
    "mani = DataManipulation()\n",
    "df_inout=pd.read_excel('/home/seongeun/PycharmProjects/dataVisualization/bizSupport/openlab/스몰머신즈/data/1_3단질병성별입원외래별현황(진료년월).xls')\n",
    "df_age = pd.read_excel('/home/seongeun/PycharmProjects/dataVisualization/bizSupport/openlab/스몰머신즈/data/1_3단질병성별연령5세구간별현황(진료년월).xls')\n",
    "df_ykiho = pd.read_excel('/home/seongeun/PycharmProjects/dataVisualization/bizSupport/openlab/스몰머신즈/data/1_3단질병요양기관그룹별현황(진료년월).xls')\n",
    "df_region = pd.read_excel('/home/seongeun/PycharmProjects/dataVisualization/bizSupport/openlab/스몰머신즈/data/1_3단질병요양기관소재지별현황(진료년월) .xls')"
   ],
   "metadata": {
    "collapsed": false,
    "pycharm": {
     "name": "#%%\n"
    }
   }
  },
  {
   "cell_type": "code",
   "execution_count": 34,
   "outputs": [],
   "source": [
    "df_inout = mani.hira_excel_treats(df_inout)\n",
    "df_age = mani.hira_excel_treats(df_age)\n",
    "df_ykiho = mani.hira_excel_treats(df_ykiho)\n",
    "df_region = mani.hira_excel_treats(df_region)"
   ],
   "metadata": {
    "collapsed": false,
    "pycharm": {
     "name": "#%%\n"
    }
   }
  },
  {
   "cell_type": "code",
   "execution_count": 35,
   "outputs": [
    {
     "data": {
      "text/plain": "     코드 성별구분 입원외래구분    환자수   내원일수   청구건수  요양급여비용총액    보험자부담금     yyyymm\n1   I21    계      계  28387  59476  33924  31115014  28395167  2018년 01월\n2   I21    남     소계  21754  41381  25952  23022016  21073369  2018년 01월\n3   I21    남     외래  20433  23156  23212    971084    407289  2018년 01월\n4   I21    남     입원   2374  18225   2740  22050932  20666080  2018년 01월\n5   I21    여     소계   6633  18095   7972   8092997   7321798  2018년 01월\n..  ...  ...    ...    ...    ...    ...       ...       ...        ...\n3   I21    남     외래  24881  28233  28282   1360985    572307  2020년 12월\n4   I21    남     입원   2076  13908   2403  23099214  21335585  2020년 12월\n5   I21    여     소계   6987  14726   8276   7204939   6414514  2020년 12월\n6   I21    여     외래   6513   7365   7381    333068    149271  2020년 12월\n7   I21    여     입원    719   7361    895   6871871   6265243  2020년 12월\n\n[252 rows x 9 columns]",
      "text/html": "<div>\n<style scoped>\n    .dataframe tbody tr th:only-of-type {\n        vertical-align: middle;\n    }\n\n    .dataframe tbody tr th {\n        vertical-align: top;\n    }\n\n    .dataframe thead th {\n        text-align: right;\n    }\n</style>\n<table border=\"1\" class=\"dataframe\">\n  <thead>\n    <tr style=\"text-align: right;\">\n      <th></th>\n      <th>코드</th>\n      <th>성별구분</th>\n      <th>입원외래구분</th>\n      <th>환자수</th>\n      <th>내원일수</th>\n      <th>청구건수</th>\n      <th>요양급여비용총액</th>\n      <th>보험자부담금</th>\n      <th>yyyymm</th>\n    </tr>\n  </thead>\n  <tbody>\n    <tr>\n      <th>1</th>\n      <td>I21</td>\n      <td>계</td>\n      <td>계</td>\n      <td>28387</td>\n      <td>59476</td>\n      <td>33924</td>\n      <td>31115014</td>\n      <td>28395167</td>\n      <td>2018년 01월</td>\n    </tr>\n    <tr>\n      <th>2</th>\n      <td>I21</td>\n      <td>남</td>\n      <td>소계</td>\n      <td>21754</td>\n      <td>41381</td>\n      <td>25952</td>\n      <td>23022016</td>\n      <td>21073369</td>\n      <td>2018년 01월</td>\n    </tr>\n    <tr>\n      <th>3</th>\n      <td>I21</td>\n      <td>남</td>\n      <td>외래</td>\n      <td>20433</td>\n      <td>23156</td>\n      <td>23212</td>\n      <td>971084</td>\n      <td>407289</td>\n      <td>2018년 01월</td>\n    </tr>\n    <tr>\n      <th>4</th>\n      <td>I21</td>\n      <td>남</td>\n      <td>입원</td>\n      <td>2374</td>\n      <td>18225</td>\n      <td>2740</td>\n      <td>22050932</td>\n      <td>20666080</td>\n      <td>2018년 01월</td>\n    </tr>\n    <tr>\n      <th>5</th>\n      <td>I21</td>\n      <td>여</td>\n      <td>소계</td>\n      <td>6633</td>\n      <td>18095</td>\n      <td>7972</td>\n      <td>8092997</td>\n      <td>7321798</td>\n      <td>2018년 01월</td>\n    </tr>\n    <tr>\n      <th>...</th>\n      <td>...</td>\n      <td>...</td>\n      <td>...</td>\n      <td>...</td>\n      <td>...</td>\n      <td>...</td>\n      <td>...</td>\n      <td>...</td>\n      <td>...</td>\n    </tr>\n    <tr>\n      <th>3</th>\n      <td>I21</td>\n      <td>남</td>\n      <td>외래</td>\n      <td>24881</td>\n      <td>28233</td>\n      <td>28282</td>\n      <td>1360985</td>\n      <td>572307</td>\n      <td>2020년 12월</td>\n    </tr>\n    <tr>\n      <th>4</th>\n      <td>I21</td>\n      <td>남</td>\n      <td>입원</td>\n      <td>2076</td>\n      <td>13908</td>\n      <td>2403</td>\n      <td>23099214</td>\n      <td>21335585</td>\n      <td>2020년 12월</td>\n    </tr>\n    <tr>\n      <th>5</th>\n      <td>I21</td>\n      <td>여</td>\n      <td>소계</td>\n      <td>6987</td>\n      <td>14726</td>\n      <td>8276</td>\n      <td>7204939</td>\n      <td>6414514</td>\n      <td>2020년 12월</td>\n    </tr>\n    <tr>\n      <th>6</th>\n      <td>I21</td>\n      <td>여</td>\n      <td>외래</td>\n      <td>6513</td>\n      <td>7365</td>\n      <td>7381</td>\n      <td>333068</td>\n      <td>149271</td>\n      <td>2020년 12월</td>\n    </tr>\n    <tr>\n      <th>7</th>\n      <td>I21</td>\n      <td>여</td>\n      <td>입원</td>\n      <td>719</td>\n      <td>7361</td>\n      <td>895</td>\n      <td>6871871</td>\n      <td>6265243</td>\n      <td>2020년 12월</td>\n    </tr>\n  </tbody>\n</table>\n<p>252 rows × 9 columns</p>\n</div>"
     },
     "execution_count": 35,
     "metadata": {},
     "output_type": "execute_result"
    }
   ],
   "source": [
    "df_inout"
   ],
   "metadata": {
    "collapsed": false,
    "pycharm": {
     "name": "#%%\n"
    }
   }
  },
  {
   "cell_type": "code",
   "execution_count": null,
   "outputs": [],
   "source": [],
   "metadata": {
    "collapsed": false,
    "pycharm": {
     "name": "#%%\n"
    }
   }
  },
  {
   "cell_type": "code",
   "execution_count": null,
   "outputs": [],
   "source": [],
   "metadata": {
    "collapsed": false,
    "pycharm": {
     "name": "#%%\n"
    }
   }
  },
  {
   "cell_type": "code",
   "execution_count": null,
   "outputs": [],
   "source": [],
   "metadata": {
    "collapsed": false,
    "pycharm": {
     "name": "#%%\n"
    }
   }
  },
  {
   "cell_type": "markdown",
   "source": [
    "### 2. 요양기관별 환자수 추이\n"
   ],
   "metadata": {
    "collapsed": false
   }
  },
  {
   "cell_type": "code",
   "execution_count": null,
   "outputs": [],
   "source": [
    "\n",
    "import plotly.express as px\n",
    "df = px.data.gapminder().query(\"country=='Canada'\")\n",
    "fig = px.line(df, x=\"year\", y=\"lifeExp\", title='Life expectancy in Canada')\n",
    "fig.show()"
   ],
   "metadata": {
    "collapsed": false,
    "pycharm": {
     "name": "#%%\n"
    }
   }
  }
 ],
 "metadata": {
  "kernelspec": {
   "display_name": "Python 3",
   "language": "python",
   "name": "python3"
  },
  "language_info": {
   "codemirror_mode": {
    "name": "ipython",
    "version": 2
   },
   "file_extension": ".py",
   "mimetype": "text/x-python",
   "name": "python",
   "nbconvert_exporter": "python",
   "pygments_lexer": "ipython2",
   "version": "2.7.6"
  }
 },
 "nbformat": 4,
 "nbformat_minor": 0
}