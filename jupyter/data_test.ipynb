{
 "cells": [
  {
   "cell_type": "code",
   "execution_count": null,
   "metadata": {
    "collapsed": true
   },
   "outputs": [],
   "source": []
  },
  {
   "cell_type": "code",
   "execution_count": 10,
   "outputs": [],
   "source": [
    "from bizSupport.openlab.성이바이오.ATC코드별_시간별_성비 import all_data_merge, trend_data_by_group, trend_data"
   ],
   "metadata": {
    "collapsed": false,
    "pycharm": {
     "name": "#%%\n"
    }
   }
  },
  {
   "cell_type": "code",
   "execution_count": 11,
   "outputs": [],
   "source": [
    "from bizSupport.openlab.성이바이오.ATC코드별_시간별_성비 import trend_data_by_group"
   ],
   "metadata": {
    "collapsed": false,
    "pycharm": {
     "name": "#%%\n"
    }
   }
  },
  {
   "cell_type": "code",
   "execution_count": 12,
   "outputs": [],
   "source": [
    "df = trend_data_by_group(group_cd=['SEX_TP_CD'])"
   ],
   "metadata": {
    "collapsed": false,
    "pycharm": {
     "name": "#%%\n"
    }
   }
  },
  {
   "cell_type": "code",
   "execution_count": 13,
   "outputs": [],
   "source": [
    "df_trend = trend_data()\n",
    "total_cols_nm = {'HID_cnt':'HID_cnt_total', 'JID_cnt':'JID_cnt_total', 'AMT_sum': 'AMT_sum_total', 'TOT_USE_QTY_OR_EXEC_FQ_sum': 'TOT_USE_QTY_OR_EXEC_FQ_sum_total'}\n",
    "df_trend_total= df_trend.rename(columns = total_cols_nm)"
   ],
   "metadata": {
    "collapsed": false,
    "pycharm": {
     "name": "#%%\n"
    }
   }
  },
  {
   "cell_type": "code",
   "execution_count": 14,
   "outputs": [
    {
     "data": {
      "text/plain": "      RV_YM   ATC_CD  HID_cnt_total  JID_cnt_total  AMT_sum_total  \\\n0    201905  N06DA02           4184           4184      265395382   \n1    201905  N06DA03            140            140        7705911   \n2    201905  N06DA04            323            323       18773191   \n3    201905  N06DX01            780            780       27602455   \n4    201905  N07AX02          10055          10055      355052277   \n..      ...      ...            ...            ...            ...   \n115  202104  N06DA02         482834         482834    26076873503   \n116  202104  N06DA03          24054          24054     1894349124   \n117  202104  N06DA04          15916          15916     1238553614   \n118  202104  N06DX01         120800         120800     4482696896   \n119  202104  N07AX02        1027157        1027157    42448256175   \n\n     TOT_USE_QTY_OR_EXEC_FQ_sum_total  \n0                        1.474430e+05  \n1                        6.654000e+03  \n2                        1.189100e+04  \n3                        3.690230e+04  \n4                        6.961790e+05  \n..                                ...  \n115                      1.688650e+07  \n116                      1.734408e+06  \n117                      8.171630e+05  \n118                      6.238469e+06  \n119                      8.345606e+07  \n\n[120 rows x 6 columns]",
      "text/html": "<div>\n<style scoped>\n    .dataframe tbody tr th:only-of-type {\n        vertical-align: middle;\n    }\n\n    .dataframe tbody tr th {\n        vertical-align: top;\n    }\n\n    .dataframe thead th {\n        text-align: right;\n    }\n</style>\n<table border=\"1\" class=\"dataframe\">\n  <thead>\n    <tr style=\"text-align: right;\">\n      <th></th>\n      <th>RV_YM</th>\n      <th>ATC_CD</th>\n      <th>HID_cnt_total</th>\n      <th>JID_cnt_total</th>\n      <th>AMT_sum_total</th>\n      <th>TOT_USE_QTY_OR_EXEC_FQ_sum_total</th>\n    </tr>\n  </thead>\n  <tbody>\n    <tr>\n      <th>0</th>\n      <td>201905</td>\n      <td>N06DA02</td>\n      <td>4184</td>\n      <td>4184</td>\n      <td>265395382</td>\n      <td>1.474430e+05</td>\n    </tr>\n    <tr>\n      <th>1</th>\n      <td>201905</td>\n      <td>N06DA03</td>\n      <td>140</td>\n      <td>140</td>\n      <td>7705911</td>\n      <td>6.654000e+03</td>\n    </tr>\n    <tr>\n      <th>2</th>\n      <td>201905</td>\n      <td>N06DA04</td>\n      <td>323</td>\n      <td>323</td>\n      <td>18773191</td>\n      <td>1.189100e+04</td>\n    </tr>\n    <tr>\n      <th>3</th>\n      <td>201905</td>\n      <td>N06DX01</td>\n      <td>780</td>\n      <td>780</td>\n      <td>27602455</td>\n      <td>3.690230e+04</td>\n    </tr>\n    <tr>\n      <th>4</th>\n      <td>201905</td>\n      <td>N07AX02</td>\n      <td>10055</td>\n      <td>10055</td>\n      <td>355052277</td>\n      <td>6.961790e+05</td>\n    </tr>\n    <tr>\n      <th>...</th>\n      <td>...</td>\n      <td>...</td>\n      <td>...</td>\n      <td>...</td>\n      <td>...</td>\n      <td>...</td>\n    </tr>\n    <tr>\n      <th>115</th>\n      <td>202104</td>\n      <td>N06DA02</td>\n      <td>482834</td>\n      <td>482834</td>\n      <td>26076873503</td>\n      <td>1.688650e+07</td>\n    </tr>\n    <tr>\n      <th>116</th>\n      <td>202104</td>\n      <td>N06DA03</td>\n      <td>24054</td>\n      <td>24054</td>\n      <td>1894349124</td>\n      <td>1.734408e+06</td>\n    </tr>\n    <tr>\n      <th>117</th>\n      <td>202104</td>\n      <td>N06DA04</td>\n      <td>15916</td>\n      <td>15916</td>\n      <td>1238553614</td>\n      <td>8.171630e+05</td>\n    </tr>\n    <tr>\n      <th>118</th>\n      <td>202104</td>\n      <td>N06DX01</td>\n      <td>120800</td>\n      <td>120800</td>\n      <td>4482696896</td>\n      <td>6.238469e+06</td>\n    </tr>\n    <tr>\n      <th>119</th>\n      <td>202104</td>\n      <td>N07AX02</td>\n      <td>1027157</td>\n      <td>1027157</td>\n      <td>42448256175</td>\n      <td>8.345606e+07</td>\n    </tr>\n  </tbody>\n</table>\n<p>120 rows × 6 columns</p>\n</div>"
     },
     "execution_count": 14,
     "metadata": {},
     "output_type": "execute_result"
    }
   ],
   "source": [
    "df_trend_total"
   ],
   "metadata": {
    "collapsed": false,
    "pycharm": {
     "name": "#%%\n"
    }
   }
  },
  {
   "cell_type": "code",
   "execution_count": 15,
   "outputs": [],
   "source": [
    "import pandas as pd"
   ],
   "metadata": {
    "collapsed": false,
    "pycharm": {
     "name": "#%%\n"
    }
   }
  },
  {
   "cell_type": "code",
   "execution_count": 16,
   "outputs": [],
   "source": [
    "df_sex_trend = pd.merge(df, df_trend_total, on = ['RV_YM', 'ATC_CD'])"
   ],
   "metadata": {
    "collapsed": false,
    "pycharm": {
     "name": "#%%\n"
    }
   }
  },
  {
   "cell_type": "code",
   "execution_count": 16,
   "outputs": [],
   "source": [],
   "metadata": {
    "collapsed": false,
    "pycharm": {
     "name": "#%%\n"
    }
   }
  },
  {
   "cell_type": "code",
   "execution_count": 18,
   "outputs": [],
   "source": [
    "for col_nm in ['HID_cnt', 'JID_cnt', 'AMT_sum', 'TOT_USE_QTY_OR_EXEC_FQ_sum']:\n",
    "    df_sex_trend['ratio_'+ col_nm] = df_sex_trend[col_nm] / df_sex_trend[col_nm + '_total']"
   ],
   "metadata": {
    "collapsed": false,
    "pycharm": {
     "name": "#%%\n"
    }
   }
  },
  {
   "cell_type": "code",
   "execution_count": 61,
   "outputs": [],
   "source": [],
   "metadata": {
    "collapsed": false,
    "pycharm": {
     "name": "#%%\n"
    }
   }
  },
  {
   "cell_type": "code",
   "execution_count": 22,
   "outputs": [
    {
     "data": {
      "text/plain": "True"
     },
     "execution_count": 22,
     "metadata": {},
     "output_type": "execute_result"
    }
   ],
   "source": [
    "df_sex_trend.SEX_TP_CD[0]==1"
   ],
   "metadata": {
    "collapsed": false,
    "pycharm": {
     "name": "#%%\n"
    }
   }
  },
  {
   "cell_type": "code",
   "execution_count": 23,
   "outputs": [
    {
     "data": {
      "text/plain": "      RV_YM   ATC_CD  SEX_TP_CD  HID_cnt  JID_cnt      AMT_sum  \\\n0    201905  N06DA02          1     1251     1251     75995793   \n1    201905  N06DA02          2     2933     2933    189399589   \n2    201905  N06DA03          1       37       37      2388663   \n3    201905  N06DA03          2      103      103      5317248   \n4    201905  N06DA04          1       92       92      5779697   \n..      ...      ...        ...      ...      ...          ...   \n235  202104  N06DA04          2     9353     9353    811412782   \n236  202104  N06DX01          1    33545    33545   1215073175   \n237  202104  N06DX01          2    87255    87255   3267623721   \n238  202104  N07AX02          1   344833   344833  14483344469   \n239  202104  N07AX02          2   682324   682324  27964911706   \n\n     TOT_USE_QTY_OR_EXEC_FQ_sum  HID_cnt_total  JID_cnt_total  AMT_sum_total  \\\n0                  4.228600e+04           4184           4184      265395382   \n1                  1.051570e+05           4184           4184      265395382   \n2                  2.113000e+03            140            140        7705911   \n3                  4.541000e+03            140            140        7705911   \n4                  3.615000e+03            323            323       18773191   \n..                          ...            ...            ...            ...   \n235                4.745560e+05          15916          15916     1238553614   \n236                1.757436e+06         120800         120800     4482696896   \n237                4.481033e+06         120800         120800     4482696896   \n238                2.876303e+07        1027157        1027157    42448256175   \n239                5.469303e+07        1027157        1027157    42448256175   \n\n     TOT_USE_QTY_OR_EXEC_FQ_sum_total  ratio_HID_cnt  ratio_JID_cnt  \\\n0                        1.474430e+05       0.298996       0.298996   \n1                        1.474430e+05       0.701004       0.701004   \n2                        6.654000e+03       0.264286       0.264286   \n3                        6.654000e+03       0.735714       0.735714   \n4                        1.189100e+04       0.284830       0.284830   \n..                                ...            ...            ...   \n235                      8.171630e+05       0.587648       0.587648   \n236                      6.238469e+06       0.277690       0.277690   \n237                      6.238469e+06       0.722310       0.722310   \n238                      8.345606e+07       0.335716       0.335716   \n239                      8.345606e+07       0.664284       0.664284   \n\n     ratio_AMT_sum  ratio_TOT_USE_QTY_OR_EXEC_FQ_sum  \n0         0.286349                          0.286796  \n1         0.713651                          0.713204  \n2         0.309978                          0.317553  \n3         0.690022                          0.682447  \n4         0.307870                          0.304011  \n..             ...                               ...  \n235       0.655129                          0.580736  \n236       0.271059                          0.281709  \n237       0.728941                          0.718291  \n238       0.341200                          0.344649  \n239       0.658800                          0.655351  \n\n[240 rows x 15 columns]",
      "text/html": "<div>\n<style scoped>\n    .dataframe tbody tr th:only-of-type {\n        vertical-align: middle;\n    }\n\n    .dataframe tbody tr th {\n        vertical-align: top;\n    }\n\n    .dataframe thead th {\n        text-align: right;\n    }\n</style>\n<table border=\"1\" class=\"dataframe\">\n  <thead>\n    <tr style=\"text-align: right;\">\n      <th></th>\n      <th>RV_YM</th>\n      <th>ATC_CD</th>\n      <th>SEX_TP_CD</th>\n      <th>HID_cnt</th>\n      <th>JID_cnt</th>\n      <th>AMT_sum</th>\n      <th>TOT_USE_QTY_OR_EXEC_FQ_sum</th>\n      <th>HID_cnt_total</th>\n      <th>JID_cnt_total</th>\n      <th>AMT_sum_total</th>\n      <th>TOT_USE_QTY_OR_EXEC_FQ_sum_total</th>\n      <th>ratio_HID_cnt</th>\n      <th>ratio_JID_cnt</th>\n      <th>ratio_AMT_sum</th>\n      <th>ratio_TOT_USE_QTY_OR_EXEC_FQ_sum</th>\n    </tr>\n  </thead>\n  <tbody>\n    <tr>\n      <th>0</th>\n      <td>201905</td>\n      <td>N06DA02</td>\n      <td>1</td>\n      <td>1251</td>\n      <td>1251</td>\n      <td>75995793</td>\n      <td>4.228600e+04</td>\n      <td>4184</td>\n      <td>4184</td>\n      <td>265395382</td>\n      <td>1.474430e+05</td>\n      <td>0.298996</td>\n      <td>0.298996</td>\n      <td>0.286349</td>\n      <td>0.286796</td>\n    </tr>\n    <tr>\n      <th>1</th>\n      <td>201905</td>\n      <td>N06DA02</td>\n      <td>2</td>\n      <td>2933</td>\n      <td>2933</td>\n      <td>189399589</td>\n      <td>1.051570e+05</td>\n      <td>4184</td>\n      <td>4184</td>\n      <td>265395382</td>\n      <td>1.474430e+05</td>\n      <td>0.701004</td>\n      <td>0.701004</td>\n      <td>0.713651</td>\n      <td>0.713204</td>\n    </tr>\n    <tr>\n      <th>2</th>\n      <td>201905</td>\n      <td>N06DA03</td>\n      <td>1</td>\n      <td>37</td>\n      <td>37</td>\n      <td>2388663</td>\n      <td>2.113000e+03</td>\n      <td>140</td>\n      <td>140</td>\n      <td>7705911</td>\n      <td>6.654000e+03</td>\n      <td>0.264286</td>\n      <td>0.264286</td>\n      <td>0.309978</td>\n      <td>0.317553</td>\n    </tr>\n    <tr>\n      <th>3</th>\n      <td>201905</td>\n      <td>N06DA03</td>\n      <td>2</td>\n      <td>103</td>\n      <td>103</td>\n      <td>5317248</td>\n      <td>4.541000e+03</td>\n      <td>140</td>\n      <td>140</td>\n      <td>7705911</td>\n      <td>6.654000e+03</td>\n      <td>0.735714</td>\n      <td>0.735714</td>\n      <td>0.690022</td>\n      <td>0.682447</td>\n    </tr>\n    <tr>\n      <th>4</th>\n      <td>201905</td>\n      <td>N06DA04</td>\n      <td>1</td>\n      <td>92</td>\n      <td>92</td>\n      <td>5779697</td>\n      <td>3.615000e+03</td>\n      <td>323</td>\n      <td>323</td>\n      <td>18773191</td>\n      <td>1.189100e+04</td>\n      <td>0.284830</td>\n      <td>0.284830</td>\n      <td>0.307870</td>\n      <td>0.304011</td>\n    </tr>\n    <tr>\n      <th>...</th>\n      <td>...</td>\n      <td>...</td>\n      <td>...</td>\n      <td>...</td>\n      <td>...</td>\n      <td>...</td>\n      <td>...</td>\n      <td>...</td>\n      <td>...</td>\n      <td>...</td>\n      <td>...</td>\n      <td>...</td>\n      <td>...</td>\n      <td>...</td>\n      <td>...</td>\n    </tr>\n    <tr>\n      <th>235</th>\n      <td>202104</td>\n      <td>N06DA04</td>\n      <td>2</td>\n      <td>9353</td>\n      <td>9353</td>\n      <td>811412782</td>\n      <td>4.745560e+05</td>\n      <td>15916</td>\n      <td>15916</td>\n      <td>1238553614</td>\n      <td>8.171630e+05</td>\n      <td>0.587648</td>\n      <td>0.587648</td>\n      <td>0.655129</td>\n      <td>0.580736</td>\n    </tr>\n    <tr>\n      <th>236</th>\n      <td>202104</td>\n      <td>N06DX01</td>\n      <td>1</td>\n      <td>33545</td>\n      <td>33545</td>\n      <td>1215073175</td>\n      <td>1.757436e+06</td>\n      <td>120800</td>\n      <td>120800</td>\n      <td>4482696896</td>\n      <td>6.238469e+06</td>\n      <td>0.277690</td>\n      <td>0.277690</td>\n      <td>0.271059</td>\n      <td>0.281709</td>\n    </tr>\n    <tr>\n      <th>237</th>\n      <td>202104</td>\n      <td>N06DX01</td>\n      <td>2</td>\n      <td>87255</td>\n      <td>87255</td>\n      <td>3267623721</td>\n      <td>4.481033e+06</td>\n      <td>120800</td>\n      <td>120800</td>\n      <td>4482696896</td>\n      <td>6.238469e+06</td>\n      <td>0.722310</td>\n      <td>0.722310</td>\n      <td>0.728941</td>\n      <td>0.718291</td>\n    </tr>\n    <tr>\n      <th>238</th>\n      <td>202104</td>\n      <td>N07AX02</td>\n      <td>1</td>\n      <td>344833</td>\n      <td>344833</td>\n      <td>14483344469</td>\n      <td>2.876303e+07</td>\n      <td>1027157</td>\n      <td>1027157</td>\n      <td>42448256175</td>\n      <td>8.345606e+07</td>\n      <td>0.335716</td>\n      <td>0.335716</td>\n      <td>0.341200</td>\n      <td>0.344649</td>\n    </tr>\n    <tr>\n      <th>239</th>\n      <td>202104</td>\n      <td>N07AX02</td>\n      <td>2</td>\n      <td>682324</td>\n      <td>682324</td>\n      <td>27964911706</td>\n      <td>5.469303e+07</td>\n      <td>1027157</td>\n      <td>1027157</td>\n      <td>42448256175</td>\n      <td>8.345606e+07</td>\n      <td>0.664284</td>\n      <td>0.664284</td>\n      <td>0.658800</td>\n      <td>0.655351</td>\n    </tr>\n  </tbody>\n</table>\n<p>240 rows × 15 columns</p>\n</div>"
     },
     "execution_count": 23,
     "metadata": {},
     "output_type": "execute_result"
    }
   ],
   "source": [
    "df_sex_trend\n"
   ],
   "metadata": {
    "collapsed": false,
    "pycharm": {
     "name": "#%%\n"
    }
   }
  },
  {
   "cell_type": "code",
   "execution_count": 25,
   "outputs": [
    {
     "data": {
      "text/plain": "      RV_YM   ATC_CD  SEX_TP_CD  HID_cnt  JID_cnt      AMT_sum  \\\n1    201905  N06DA02          2     2933     2933    189399589   \n3    201905  N06DA03          2      103      103      5317248   \n5    201905  N06DA04          2      231      231     12993494   \n7    201905  N06DX01          2      577      577     20622575   \n9    201905  N07AX02          2     6210     6210    219659107   \n..      ...      ...        ...      ...      ...          ...   \n231  202104  N06DA02          2   340847   340847  18315003717   \n233  202104  N06DA03          2    15527    15527   1236875528   \n235  202104  N06DA04          2     9353     9353    811412782   \n237  202104  N06DX01          2    87255    87255   3267623721   \n239  202104  N07AX02          2   682324   682324  27964911706   \n\n     TOT_USE_QTY_OR_EXEC_FQ_sum  HID_cnt_total  JID_cnt_total  AMT_sum_total  \\\n1                  1.051570e+05           4184           4184      265395382   \n3                  4.541000e+03            140            140        7705911   \n5                  8.276000e+03            323            323       18773191   \n7                  2.735330e+04            780            780       27602455   \n9                  4.293230e+05          10055          10055      355052277   \n..                          ...            ...            ...            ...   \n231                1.179584e+07         482834         482834    26076873503   \n233                1.102718e+06          24054          24054     1894349124   \n235                4.745560e+05          15916          15916     1238553614   \n237                4.481033e+06         120800         120800     4482696896   \n239                5.469303e+07        1027157        1027157    42448256175   \n\n     TOT_USE_QTY_OR_EXEC_FQ_sum_total  ratio_HID_cnt  ratio_JID_cnt  \\\n1                        1.474430e+05       0.701004       0.701004   \n3                        6.654000e+03       0.735714       0.735714   \n5                        1.189100e+04       0.715170       0.715170   \n7                        3.690230e+04       0.739744       0.739744   \n9                        6.961790e+05       0.617603       0.617603   \n..                                ...            ...            ...   \n231                      1.688650e+07       0.705930       0.705930   \n233                      1.734408e+06       0.645506       0.645506   \n235                      8.171630e+05       0.587648       0.587648   \n237                      6.238469e+06       0.722310       0.722310   \n239                      8.345606e+07       0.664284       0.664284   \n\n     ratio_AMT_sum  ratio_TOT_USE_QTY_OR_EXEC_FQ_sum  \n1         0.713651                          0.713204  \n3         0.690022                          0.682447  \n5         0.692130                          0.695989  \n7         0.747128                          0.741236  \n9         0.618667                          0.616685  \n..             ...                               ...  \n231       0.702347                          0.698537  \n233       0.652929                          0.635789  \n235       0.655129                          0.580736  \n237       0.728941                          0.718291  \n239       0.658800                          0.655351  \n\n[120 rows x 15 columns]",
      "text/html": "<div>\n<style scoped>\n    .dataframe tbody tr th:only-of-type {\n        vertical-align: middle;\n    }\n\n    .dataframe tbody tr th {\n        vertical-align: top;\n    }\n\n    .dataframe thead th {\n        text-align: right;\n    }\n</style>\n<table border=\"1\" class=\"dataframe\">\n  <thead>\n    <tr style=\"text-align: right;\">\n      <th></th>\n      <th>RV_YM</th>\n      <th>ATC_CD</th>\n      <th>SEX_TP_CD</th>\n      <th>HID_cnt</th>\n      <th>JID_cnt</th>\n      <th>AMT_sum</th>\n      <th>TOT_USE_QTY_OR_EXEC_FQ_sum</th>\n      <th>HID_cnt_total</th>\n      <th>JID_cnt_total</th>\n      <th>AMT_sum_total</th>\n      <th>TOT_USE_QTY_OR_EXEC_FQ_sum_total</th>\n      <th>ratio_HID_cnt</th>\n      <th>ratio_JID_cnt</th>\n      <th>ratio_AMT_sum</th>\n      <th>ratio_TOT_USE_QTY_OR_EXEC_FQ_sum</th>\n    </tr>\n  </thead>\n  <tbody>\n    <tr>\n      <th>1</th>\n      <td>201905</td>\n      <td>N06DA02</td>\n      <td>2</td>\n      <td>2933</td>\n      <td>2933</td>\n      <td>189399589</td>\n      <td>1.051570e+05</td>\n      <td>4184</td>\n      <td>4184</td>\n      <td>265395382</td>\n      <td>1.474430e+05</td>\n      <td>0.701004</td>\n      <td>0.701004</td>\n      <td>0.713651</td>\n      <td>0.713204</td>\n    </tr>\n    <tr>\n      <th>3</th>\n      <td>201905</td>\n      <td>N06DA03</td>\n      <td>2</td>\n      <td>103</td>\n      <td>103</td>\n      <td>5317248</td>\n      <td>4.541000e+03</td>\n      <td>140</td>\n      <td>140</td>\n      <td>7705911</td>\n      <td>6.654000e+03</td>\n      <td>0.735714</td>\n      <td>0.735714</td>\n      <td>0.690022</td>\n      <td>0.682447</td>\n    </tr>\n    <tr>\n      <th>5</th>\n      <td>201905</td>\n      <td>N06DA04</td>\n      <td>2</td>\n      <td>231</td>\n      <td>231</td>\n      <td>12993494</td>\n      <td>8.276000e+03</td>\n      <td>323</td>\n      <td>323</td>\n      <td>18773191</td>\n      <td>1.189100e+04</td>\n      <td>0.715170</td>\n      <td>0.715170</td>\n      <td>0.692130</td>\n      <td>0.695989</td>\n    </tr>\n    <tr>\n      <th>7</th>\n      <td>201905</td>\n      <td>N06DX01</td>\n      <td>2</td>\n      <td>577</td>\n      <td>577</td>\n      <td>20622575</td>\n      <td>2.735330e+04</td>\n      <td>780</td>\n      <td>780</td>\n      <td>27602455</td>\n      <td>3.690230e+04</td>\n      <td>0.739744</td>\n      <td>0.739744</td>\n      <td>0.747128</td>\n      <td>0.741236</td>\n    </tr>\n    <tr>\n      <th>9</th>\n      <td>201905</td>\n      <td>N07AX02</td>\n      <td>2</td>\n      <td>6210</td>\n      <td>6210</td>\n      <td>219659107</td>\n      <td>4.293230e+05</td>\n      <td>10055</td>\n      <td>10055</td>\n      <td>355052277</td>\n      <td>6.961790e+05</td>\n      <td>0.617603</td>\n      <td>0.617603</td>\n      <td>0.618667</td>\n      <td>0.616685</td>\n    </tr>\n    <tr>\n      <th>...</th>\n      <td>...</td>\n      <td>...</td>\n      <td>...</td>\n      <td>...</td>\n      <td>...</td>\n      <td>...</td>\n      <td>...</td>\n      <td>...</td>\n      <td>...</td>\n      <td>...</td>\n      <td>...</td>\n      <td>...</td>\n      <td>...</td>\n      <td>...</td>\n      <td>...</td>\n    </tr>\n    <tr>\n      <th>231</th>\n      <td>202104</td>\n      <td>N06DA02</td>\n      <td>2</td>\n      <td>340847</td>\n      <td>340847</td>\n      <td>18315003717</td>\n      <td>1.179584e+07</td>\n      <td>482834</td>\n      <td>482834</td>\n      <td>26076873503</td>\n      <td>1.688650e+07</td>\n      <td>0.705930</td>\n      <td>0.705930</td>\n      <td>0.702347</td>\n      <td>0.698537</td>\n    </tr>\n    <tr>\n      <th>233</th>\n      <td>202104</td>\n      <td>N06DA03</td>\n      <td>2</td>\n      <td>15527</td>\n      <td>15527</td>\n      <td>1236875528</td>\n      <td>1.102718e+06</td>\n      <td>24054</td>\n      <td>24054</td>\n      <td>1894349124</td>\n      <td>1.734408e+06</td>\n      <td>0.645506</td>\n      <td>0.645506</td>\n      <td>0.652929</td>\n      <td>0.635789</td>\n    </tr>\n    <tr>\n      <th>235</th>\n      <td>202104</td>\n      <td>N06DA04</td>\n      <td>2</td>\n      <td>9353</td>\n      <td>9353</td>\n      <td>811412782</td>\n      <td>4.745560e+05</td>\n      <td>15916</td>\n      <td>15916</td>\n      <td>1238553614</td>\n      <td>8.171630e+05</td>\n      <td>0.587648</td>\n      <td>0.587648</td>\n      <td>0.655129</td>\n      <td>0.580736</td>\n    </tr>\n    <tr>\n      <th>237</th>\n      <td>202104</td>\n      <td>N06DX01</td>\n      <td>2</td>\n      <td>87255</td>\n      <td>87255</td>\n      <td>3267623721</td>\n      <td>4.481033e+06</td>\n      <td>120800</td>\n      <td>120800</td>\n      <td>4482696896</td>\n      <td>6.238469e+06</td>\n      <td>0.722310</td>\n      <td>0.722310</td>\n      <td>0.728941</td>\n      <td>0.718291</td>\n    </tr>\n    <tr>\n      <th>239</th>\n      <td>202104</td>\n      <td>N07AX02</td>\n      <td>2</td>\n      <td>682324</td>\n      <td>682324</td>\n      <td>27964911706</td>\n      <td>5.469303e+07</td>\n      <td>1027157</td>\n      <td>1027157</td>\n      <td>42448256175</td>\n      <td>8.345606e+07</td>\n      <td>0.664284</td>\n      <td>0.664284</td>\n      <td>0.658800</td>\n      <td>0.655351</td>\n    </tr>\n  </tbody>\n</table>\n<p>120 rows × 15 columns</p>\n</div>"
     },
     "execution_count": 25,
     "metadata": {},
     "output_type": "execute_result"
    }
   ],
   "source": [
    "\n",
    "df_sex_trend.query('SEX_TP_CD == 2')"
   ],
   "metadata": {
    "collapsed": false,
    "pycharm": {
     "name": "#%%\n"
    }
   }
  },
  {
   "cell_type": "code",
   "execution_count": null,
   "outputs": [],
   "source": [],
   "metadata": {
    "collapsed": false,
    "pycharm": {
     "name": "#%%\n"
    }
   }
  },
  {
   "cell_type": "code",
   "execution_count": null,
   "outputs": [],
   "source": [
    "df_sex_trend\n"
   ],
   "metadata": {
    "collapsed": false,
    "pycharm": {
     "name": "#%%\n"
    }
   }
  },
  {
   "cell_type": "code",
   "execution_count": null,
   "outputs": [],
   "source": [
    "df_sex_trend\n"
   ],
   "metadata": {
    "collapsed": false,
    "pycharm": {
     "name": "#%%\n"
    }
   }
  },
  {
   "cell_type": "code",
   "execution_count": null,
   "outputs": [],
   "source": [
    "df_sex_trend\n"
   ],
   "metadata": {
    "collapsed": false,
    "pycharm": {
     "name": "#%%\n"
    }
   }
  },
  {
   "cell_type": "code",
   "execution_count": null,
   "outputs": [],
   "source": [
    "df_sex_trend\n"
   ],
   "metadata": {
    "collapsed": false,
    "pycharm": {
     "name": "#%%\n"
    }
   }
  },
  {
   "cell_type": "code",
   "execution_count": null,
   "outputs": [],
   "source": [
    "df_sex_trend\n"
   ],
   "metadata": {
    "collapsed": false,
    "pycharm": {
     "name": "#%%\n"
    }
   }
  },
  {
   "cell_type": "code",
   "execution_count": null,
   "outputs": [],
   "source": [
    "df_sex_trend\n"
   ],
   "metadata": {
    "collapsed": false,
    "pycharm": {
     "name": "#%%\n"
    }
   }
  },
  {
   "cell_type": "code",
   "execution_count": null,
   "outputs": [],
   "source": [
    "df_sex_trend\n"
   ],
   "metadata": {
    "collapsed": false,
    "pycharm": {
     "name": "#%%\n"
    }
   }
  },
  {
   "cell_type": "code",
   "execution_count": null,
   "outputs": [],
   "source": [
    "df_sex_trend\n"
   ],
   "metadata": {
    "collapsed": false,
    "pycharm": {
     "name": "#%%\n"
    }
   }
  },
  {
   "cell_type": "code",
   "execution_count": null,
   "outputs": [],
   "source": [
    "df_sex_trend\n"
   ],
   "metadata": {
    "collapsed": false,
    "pycharm": {
     "name": "#%%\n"
    }
   }
  },
  {
   "cell_type": "code",
   "execution_count": null,
   "outputs": [],
   "source": [
    "df_sex_trend\n"
   ],
   "metadata": {
    "collapsed": false,
    "pycharm": {
     "name": "#%%\n"
    }
   }
  },
  {
   "cell_type": "code",
   "execution_count": null,
   "outputs": [],
   "source": [
    "df_sex_trend\n"
   ],
   "metadata": {
    "collapsed": false,
    "pycharm": {
     "name": "#%%\n"
    }
   }
  },
  {
   "cell_type": "code",
   "execution_count": null,
   "outputs": [],
   "source": [
    "df_sex_trend\n"
   ],
   "metadata": {
    "collapsed": false,
    "pycharm": {
     "name": "#%%\n"
    }
   }
  },
  {
   "cell_type": "code",
   "execution_count": null,
   "outputs": [],
   "source": [
    "df_sex_trend\n"
   ],
   "metadata": {
    "collapsed": false,
    "pycharm": {
     "name": "#%%\n"
    }
   }
  },
  {
   "cell_type": "code",
   "execution_count": null,
   "outputs": [],
   "source": [
    "df_sex_trend\n"
   ],
   "metadata": {
    "collapsed": false,
    "pycharm": {
     "name": "#%%\n"
    }
   }
  },
  {
   "cell_type": "code",
   "execution_count": null,
   "outputs": [],
   "source": [
    "df_sex_trend\n"
   ],
   "metadata": {
    "collapsed": false,
    "pycharm": {
     "name": "#%%\n"
    }
   }
  },
  {
   "cell_type": "code",
   "execution_count": null,
   "outputs": [],
   "source": [
    "df_sex_trend\n"
   ],
   "metadata": {
    "collapsed": false,
    "pycharm": {
     "name": "#%%\n"
    }
   }
  },
  {
   "cell_type": "code",
   "execution_count": null,
   "outputs": [],
   "source": [
    "df_sex_trend\n"
   ],
   "metadata": {
    "collapsed": false,
    "pycharm": {
     "name": "#%%\n"
    }
   }
  },
  {
   "cell_type": "code",
   "execution_count": null,
   "outputs": [],
   "source": [
    "df_sex_trend\n"
   ],
   "metadata": {
    "collapsed": false,
    "pycharm": {
     "name": "#%%\n"
    }
   }
  },
  {
   "cell_type": "code",
   "execution_count": null,
   "outputs": [],
   "source": [
    "df_sex_trend\n"
   ],
   "metadata": {
    "collapsed": false,
    "pycharm": {
     "name": "#%%\n"
    }
   }
  },
  {
   "cell_type": "code",
   "execution_count": null,
   "outputs": [],
   "source": [
    "df_sex_trend\n"
   ],
   "metadata": {
    "collapsed": false,
    "pycharm": {
     "name": "#%%\n"
    }
   }
  },
  {
   "cell_type": "code",
   "execution_count": null,
   "outputs": [],
   "source": [
    "df_sex_trend\n"
   ],
   "metadata": {
    "collapsed": false,
    "pycharm": {
     "name": "#%%\n"
    }
   }
  },
  {
   "cell_type": "code",
   "execution_count": null,
   "outputs": [],
   "source": [
    "df_sex_trend\n"
   ],
   "metadata": {
    "collapsed": false,
    "pycharm": {
     "name": "#%%\n"
    }
   }
  },
  {
   "cell_type": "code",
   "execution_count": null,
   "outputs": [],
   "source": [
    "df_sex_trend\n"
   ],
   "metadata": {
    "collapsed": false,
    "pycharm": {
     "name": "#%%\n"
    }
   }
  },
  {
   "cell_type": "code",
   "execution_count": null,
   "outputs": [],
   "source": [
    "df_sex_trend\n"
   ],
   "metadata": {
    "collapsed": false,
    "pycharm": {
     "name": "#%%\n"
    }
   }
  },
  {
   "cell_type": "code",
   "execution_count": null,
   "outputs": [],
   "source": [
    "df_sex_trend\n"
   ],
   "metadata": {
    "collapsed": false,
    "pycharm": {
     "name": "#%%\n"
    }
   }
  },
  {
   "cell_type": "code",
   "execution_count": null,
   "outputs": [],
   "source": [
    "df_sex_trend\n"
   ],
   "metadata": {
    "collapsed": false,
    "pycharm": {
     "name": "#%%\n"
    }
   }
  },
  {
   "cell_type": "code",
   "execution_count": null,
   "outputs": [],
   "source": [
    "df_sex_trend\n"
   ],
   "metadata": {
    "collapsed": false,
    "pycharm": {
     "name": "#%%\n"
    }
   }
  },
  {
   "cell_type": "code",
   "execution_count": null,
   "outputs": [],
   "source": [
    "df_sex_trend\n"
   ],
   "metadata": {
    "collapsed": false,
    "pycharm": {
     "name": "#%%\n"
    }
   }
  },
  {
   "cell_type": "code",
   "execution_count": null,
   "outputs": [],
   "source": [
    "df_sex_trend\n"
   ],
   "metadata": {
    "collapsed": false,
    "pycharm": {
     "name": "#%%\n"
    }
   }
  },
  {
   "cell_type": "code",
   "execution_count": null,
   "outputs": [],
   "source": [
    "df_sex_trend\n"
   ],
   "metadata": {
    "collapsed": false,
    "pycharm": {
     "name": "#%%\n"
    }
   }
  },
  {
   "cell_type": "code",
   "execution_count": null,
   "outputs": [],
   "source": [
    "df_sex_trend\n"
   ],
   "metadata": {
    "collapsed": false,
    "pycharm": {
     "name": "#%%\n"
    }
   }
  },
  {
   "cell_type": "code",
   "execution_count": null,
   "outputs": [],
   "source": [
    "df_sex_trend\n"
   ],
   "metadata": {
    "collapsed": false,
    "pycharm": {
     "name": "#%%\n"
    }
   }
  },
  {
   "cell_type": "code",
   "execution_count": null,
   "outputs": [],
   "source": [
    "df_sex_trend\n"
   ],
   "metadata": {
    "collapsed": false,
    "pycharm": {
     "name": "#%%\n"
    }
   }
  },
  {
   "cell_type": "code",
   "execution_count": null,
   "outputs": [],
   "source": [
    "df_sex_trend\n"
   ],
   "metadata": {
    "collapsed": false,
    "pycharm": {
     "name": "#%%\n"
    }
   }
  },
  {
   "cell_type": "code",
   "execution_count": null,
   "outputs": [],
   "source": [
    "df_sex_trend\n"
   ],
   "metadata": {
    "collapsed": false,
    "pycharm": {
     "name": "#%%\n"
    }
   }
  },
  {
   "cell_type": "code",
   "execution_count": null,
   "outputs": [],
   "source": [
    "df_sex_trend\n"
   ],
   "metadata": {
    "collapsed": false,
    "pycharm": {
     "name": "#%%\n"
    }
   }
  },
  {
   "cell_type": "code",
   "execution_count": null,
   "outputs": [],
   "source": [
    "df_sex_trend\n"
   ],
   "metadata": {
    "collapsed": false,
    "pycharm": {
     "name": "#%%\n"
    }
   }
  },
  {
   "cell_type": "code",
   "execution_count": null,
   "outputs": [],
   "source": [
    "df_sex_trend\n"
   ],
   "metadata": {
    "collapsed": false,
    "pycharm": {
     "name": "#%%\n"
    }
   }
  }
 ],
 "metadata": {
  "kernelspec": {
   "display_name": "Python 3",
   "language": "python",
   "name": "python3"
  },
  "language_info": {
   "codemirror_mode": {
    "name": "ipython",
    "version": 2
   },
   "file_extension": ".py",
   "mimetype": "text/x-python",
   "name": "python",
   "nbconvert_exporter": "python",
   "pygments_lexer": "ipython2",
   "version": "2.7.6"
  }
 },
 "nbformat": 4,
 "nbformat_minor": 0
}